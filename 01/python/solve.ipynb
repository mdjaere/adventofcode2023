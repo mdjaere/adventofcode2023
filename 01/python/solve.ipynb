{
 "cells": [
  {
   "cell_type": "code",
   "execution_count": 11,
   "metadata": {},
   "outputs": [],
   "source": [
    "infile = \"input\"\n",
    "# infile = \"example\"\n",
    "lines = [line.strip() for line in open(infile)]"
   ]
  },
  {
   "cell_type": "code",
   "execution_count": 12,
   "metadata": {},
   "outputs": [
    {
     "name": "stdout",
     "output_type": "stream",
     "text": [
      "Part1: 54990\n"
     ]
    }
   ],
   "source": [
    "sum_1 = 0\n",
    "for line in lines:\n",
    "    digits = [ x for x in line if x.isdigit() ]\n",
    "    sum_1 += int(digits[0] + digits[-1])\n",
    "\n",
    "print(\"Part 1:\", sum_1)"
   ]
  },
  {
   "cell_type": "code",
   "execution_count": 18,
   "metadata": {},
   "outputs": [
    {
     "name": "stdout",
     "output_type": "stream",
     "text": [
      "Part 2: 54473\n"
     ]
    }
   ],
   "source": [
    "p = {\n",
    "    \"0\":\"0\",\n",
    "    \"1\":\"1\",\n",
    "    \"2\":\"2\",\n",
    "    \"3\":\"3\",\n",
    "    \"4\":\"4\",\n",
    "    \"5\":\"5\",\n",
    "    \"6\":\"6\",\n",
    "    \"7\":\"7\",\n",
    "    \"8\":\"8\",\n",
    "    \"9\":\"9\",\n",
    "    \"one\":\"1\",\n",
    "    \"two\":\"2\",\n",
    "    \"three\":\"3\",\n",
    "    \"four\":\"4\",\n",
    "    \"five\":\"5\",\n",
    "    \"six\":\"6\",\n",
    "    \"seven\":\"7\",\n",
    "    \"eight\":\"8\",\n",
    "    \"nine\":\"9\"\n",
    "}\n",
    "\n",
    "sum_2 = 0\n",
    "\n",
    "for line in lines:\n",
    "    rest = line\n",
    "    digits = []\n",
    "    while rest:\n",
    "        for key, value in p.items():\n",
    "            if rest.startswith(key):\n",
    "                digits.append(value)\n",
    "                rest = rest[len(value)-1:]\n",
    "                break\n",
    "        if len(rest)==1:\n",
    "            break\n",
    "        rest = rest[1:]\n",
    "    sum_2 += int(digits[0] + digits[-1])\n",
    "\n",
    "print(\"Part 2:\", sum_2)"
   ]
  },
  {
   "cell_type": "code",
   "execution_count": null,
   "metadata": {},
   "outputs": [],
   "source": []
  }
 ],
 "metadata": {
  "kernelspec": {
   "display_name": "Python 3.9.7 ('base')",
   "language": "python",
   "name": "python3"
  },
  "language_info": {
   "codemirror_mode": {
    "name": "ipython",
    "version": 3
   },
   "file_extension": ".py",
   "mimetype": "text/x-python",
   "name": "python",
   "nbconvert_exporter": "python",
   "pygments_lexer": "ipython3",
   "version": "3.11.5"
  },
  "orig_nbformat": 4,
  "vscode": {
   "interpreter": {
    "hash": "25b9408291d6e02a991de60c77e33a0ea9dd30a3167c33e8864857309fab9930"
   }
  }
 },
 "nbformat": 4,
 "nbformat_minor": 2
}
